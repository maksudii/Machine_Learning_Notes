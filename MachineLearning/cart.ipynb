{
 "cells": [
  {
   "cell_type": "markdown",
   "metadata": {
    "pycharm": {
     "name": "#%% md\n"
    }
   },
   "source": [
    "# CART (Classification And Regression Trees)\n",
    "\n",
    "- 1984 yılında Leo Breiman tarafından yapılmıştır.\n",
    "- Random Forest temelini oluşturur.\n",
    "- Amaç veri seti içerisindeki karmaşık yapıları basit karar yapılarına dönüştürmektir.\n",
    "- Heterojen veri setleri belirlenmiş bir hedef değişkene göre homojen alt grupları oluşturur.\n",
    "  <br>\n",
    "  <img src=\"https://www.datasciencearth.com/wp-content/uploads/2020/03/Capture-4.png\">\n",
    "  <br>\n",
    "  <img src = \"https://i0.wp.com/miracozturk.com/wp-content/uploads/2020/12/microsoft-power-bi-data-science-python-bussiness-intelligence-classification-analyze-decision-tree-node.png?resize=1024%2C549&ssl=1\">\n"
   ]
  },
  {
   "cell_type": "markdown",
   "metadata": {
    "collapsed": false,
    "pycharm": {
     "name": "#%% md\n"
    }
   },
   "source": [
    "- 1. Exploratory Data Analysis\n",
    "- 2. Data Preprocessing & Feature Engineering\n",
    "- 3. Modeling using CART\n",
    "- 4. Hyperparameter Optimization with GridSearchCV\n",
    "- 5. Final Model\n",
    "- 6. Feature Importance\n",
    "- 7. Analyzing Model Complexity with Learning Curves (BONUS)\n",
    "- 8. Visualizing the Decision Tree\n",
    "- 9. Extracting Decision Rules\n",
    "- 10. Extracting Python/SQL/Excel Codes of Decision Rules\n",
    "- 11. Prediction using Python Codes\n",
    "- 12. Saving and Loading Model\n",
    "\n",
    "pip install pydotplus\n",
    "\n",
    "pip install skompiler\n",
    "\n",
    "pip install astor\n",
    "\n",
    "pip install joblib\n"
   ]
  },
  {
   "cell_type": "code",
   "execution_count": 1,
   "metadata": {
    "collapsed": false,
    "pycharm": {
     "name": "#%%\n"
    }
   },
   "outputs": [],
   "source": [
    "import warnings\n",
    "import joblib\n",
    "import pydotplus\n",
    "import numpy as np\n",
    "import pandas as pd\n",
    "import seaborn as sns\n",
    "from matplotlib import pyplot as plt\n",
    "from sklearn.tree import DecisionTreeClassifier, export_graphviz, export_text\n",
    "from sklearn.metrics import classification_report, roc_auc_score\n",
    "from sklearn.model_selection import train_test_split, GridSearchCV, cross_validate, validation_curve\n",
    "from skompiler import skompile\n",
    "import graphviz\n",
    "\n",
    "pd.set_option('display.max_columns', None)\n",
    "pd.set_option('display.width', 500)\n",
    "\n",
    "warnings.simplefilter(action='ignore', category=Warning)\n"
   ]
  },
  {
   "cell_type": "markdown",
   "metadata": {
    "collapsed": false,
    "pycharm": {
     "name": "#%% md\n"
    }
   },
   "source": [
    "**1. Exploratory Data Analysis**\n",
    "\n",
    "**2. Data Preprocessing & Feature Engineering**\n",
    "\n",
    "**3. Modeling using CART**\n"
   ]
  },
  {
   "cell_type": "code",
   "execution_count": 2,
   "metadata": {
    "collapsed": false,
    "pycharm": {
     "name": "#%%\n"
    }
   },
   "outputs": [
    {
     "name": "stdout",
     "output_type": "stream",
     "text": [
      "              precision    recall  f1-score   support\n",
      "\n",
      "           0       1.00      1.00      1.00       500\n",
      "           1       1.00      1.00      1.00       268\n",
      "\n",
      "    accuracy                           1.00       768\n",
      "   macro avg       1.00      1.00      1.00       768\n",
      "weighted avg       1.00      1.00      1.00       768\n",
      "\n"
     ]
    }
   ],
   "source": [
    "df = pd.read_csv(\"datasets/diabetes.csv\")\n",
    "\n",
    "y = df[\"Outcome\"]\n",
    "X = df.drop([\"Outcome\"], axis=1)\n",
    "\n",
    "cartModel = DecisionTreeClassifier(random_state=1).fit(X, y)\n",
    "\n",
    "# Confusion matrix için yPred:\n",
    "yPred = cartModel.predict(X)\n",
    "\n",
    "# AUC için yProb:\n",
    "yProb = cartModel.predict_proba(X)[:, 1]\n",
    "\n",
    "# Confusion matrix\n",
    "print(classification_report(y, yPred))\n"
   ]
  },
  {
   "cell_type": "code",
   "execution_count": 3,
   "metadata": {
    "collapsed": false,
    "pycharm": {
     "name": "#%%\n"
    }
   },
   "outputs": [
    {
     "data": {
      "text/plain": [
       "1.0"
      ]
     },
     "execution_count": 3,
     "metadata": {},
     "output_type": "execute_result"
    }
   ],
   "source": [
    "# AUC\n",
    "roc_auc_score(y, yProb)\n"
   ]
  },
  {
   "cell_type": "markdown",
   "metadata": {
    "pycharm": {
     "name": "#%% md\n"
    }
   },
   "source": [
    "**Holdout Yöntemi İle Başarı Değerlendirme**\n"
   ]
  },
  {
   "cell_type": "code",
   "execution_count": 4,
   "metadata": {
    "pycharm": {
     "name": "#%%\n"
    }
   },
   "outputs": [],
   "source": [
    "XTrain, XTest, yTrain, yTest = train_test_split(\n",
    "    X, y, test_size=0.30, random_state=17)\n",
    "cartModel = DecisionTreeClassifier(random_state=17).fit(XTrain, yTrain)\n"
   ]
  },
  {
   "cell_type": "code",
   "execution_count": 5,
   "metadata": {
    "pycharm": {
     "name": "#%%\n"
    }
   },
   "outputs": [
    {
     "name": "stdout",
     "output_type": "stream",
     "text": [
      "              precision    recall  f1-score   support\n",
      "\n",
      "           0       1.00      1.00      1.00       350\n",
      "           1       1.00      1.00      1.00       187\n",
      "\n",
      "    accuracy                           1.00       537\n",
      "   macro avg       1.00      1.00      1.00       537\n",
      "weighted avg       1.00      1.00      1.00       537\n",
      "\n"
     ]
    },
    {
     "data": {
      "text/plain": [
       "1.0"
      ]
     },
     "execution_count": 5,
     "metadata": {},
     "output_type": "execute_result"
    }
   ],
   "source": [
    "# Train Hatası\n",
    "yPred = cartModel.predict(XTrain)\n",
    "yProb = cartModel.predict_proba(XTrain)[:, 1]\n",
    "print(classification_report(yTrain, yPred))\n",
    "roc_auc_score(yTrain, yProb)\n"
   ]
  },
  {
   "cell_type": "code",
   "execution_count": 6,
   "metadata": {
    "pycharm": {
     "name": "#%%\n"
    }
   },
   "outputs": [
    {
     "name": "stdout",
     "output_type": "stream",
     "text": [
      "              precision    recall  f1-score   support\n",
      "\n",
      "           0       0.77      0.78      0.77       150\n",
      "           1       0.58      0.57      0.58        81\n",
      "\n",
      "    accuracy                           0.71       231\n",
      "   macro avg       0.68      0.67      0.67       231\n",
      "weighted avg       0.70      0.71      0.70       231\n",
      "\n"
     ]
    },
    {
     "data": {
      "text/plain": [
       "0.6739506172839506"
      ]
     },
     "execution_count": 6,
     "metadata": {},
     "output_type": "execute_result"
    }
   ],
   "source": [
    "# Tes Hatası\n",
    "yPred = cartModel.predict(XTest)\n",
    "yProb = cartModel.predict_proba(XTest)[:, 1]\n",
    "print(classification_report(yTest, yPred))\n",
    "roc_auc_score(yTest, yProb)\n"
   ]
  },
  {
   "cell_type": "markdown",
   "metadata": {
    "pycharm": {
     "name": "#%% md\n"
    }
   },
   "source": [
    "**CV ile Başarı Değerlendirme**\n"
   ]
  },
  {
   "cell_type": "code",
   "execution_count": 7,
   "metadata": {
    "pycharm": {
     "name": "#%%\n"
    }
   },
   "outputs": [
    {
     "data": {
      "text/plain": [
       "0.7058568882098294"
      ]
     },
     "execution_count": 7,
     "metadata": {},
     "output_type": "execute_result"
    }
   ],
   "source": [
    "cartModel = DecisionTreeClassifier(random_state=17).fit(X, y)\n",
    "\n",
    "cvResults = cross_validate(cartModel,\n",
    "                           X, y,\n",
    "                           cv=5,\n",
    "                           scoring=[\"accuracy\", \"f1\", \"roc_auc\"])\n",
    "\n",
    "cvResults['test_accuracy'].mean()\n",
    "# 0.7058568882098294\n"
   ]
  },
  {
   "cell_type": "code",
   "execution_count": 8,
   "metadata": {
    "pycharm": {
     "name": "#%%\n"
    }
   },
   "outputs": [
    {
     "data": {
      "text/plain": [
       "0.5710621194523633"
      ]
     },
     "execution_count": 8,
     "metadata": {},
     "output_type": "execute_result"
    }
   ],
   "source": [
    "cvResults['test_f1'].mean()\n",
    "# 0.5710621194523633\n"
   ]
  },
  {
   "cell_type": "code",
   "execution_count": 9,
   "metadata": {
    "pycharm": {
     "name": "#%%\n"
    }
   },
   "outputs": [
    {
     "data": {
      "text/plain": [
       "0.6719440950384347"
      ]
     },
     "execution_count": 9,
     "metadata": {},
     "output_type": "execute_result"
    }
   ],
   "source": [
    "cvResults['test_roc_auc'].mean()\n",
    "# 0.6719440950384347\n"
   ]
  },
  {
   "cell_type": "markdown",
   "metadata": {
    "pycharm": {
     "name": "#%% md\n"
    }
   },
   "source": [
    "**4. Hyperparameter Optimization with GridSearchCV**\n"
   ]
  },
  {
   "cell_type": "code",
   "execution_count": 10,
   "metadata": {
    "pycharm": {
     "name": "#%%\n"
    }
   },
   "outputs": [
    {
     "data": {
      "text/plain": [
       "{'ccp_alpha': 0.0,\n",
       " 'class_weight': None,\n",
       " 'criterion': 'gini',\n",
       " 'max_depth': None,\n",
       " 'max_features': None,\n",
       " 'max_leaf_nodes': None,\n",
       " 'min_impurity_decrease': 0.0,\n",
       " 'min_impurity_split': None,\n",
       " 'min_samples_leaf': 1,\n",
       " 'min_samples_split': 2,\n",
       " 'min_weight_fraction_leaf': 0.0,\n",
       " 'random_state': 17,\n",
       " 'splitter': 'best'}"
      ]
     },
     "execution_count": 10,
     "metadata": {},
     "output_type": "execute_result"
    }
   ],
   "source": [
    "cartModel.get_params()\n"
   ]
  },
  {
   "cell_type": "code",
   "execution_count": 11,
   "metadata": {
    "pycharm": {
     "name": "#%%\n"
    }
   },
   "outputs": [],
   "source": [
    "cartParams = {\"max_depth\": range(1, 11), \"min_samples_leaf\": range(2, 20)}\n"
   ]
  },
  {
   "cell_type": "code",
   "execution_count": 12,
   "metadata": {
    "pycharm": {
     "name": "#%%\n"
    }
   },
   "outputs": [
    {
     "name": "stdout",
     "output_type": "stream",
     "text": [
      "Fitting 5 folds for each of 180 candidates, totalling 900 fits\n"
     ]
    }
   ],
   "source": [
    "cartBestGrid = GridSearchCV(cartModel, cartParams, cv=5, n_jobs=1, verbose=True).fit(X, y)"
   ]
  },
  {
   "cell_type": "code",
   "execution_count": 13,
   "metadata": {
    "pycharm": {
     "name": "#%%\n"
    }
   },
   "outputs": [
    {
     "data": {
      "text/plain": [
       "{'max_depth': 7, 'min_samples_leaf': 18}"
      ]
     },
     "execution_count": 13,
     "metadata": {},
     "output_type": "execute_result"
    }
   ],
   "source": [
    "cartBestGrid.best_params_"
   ]
  },
  {
   "cell_type": "code",
   "execution_count": 14,
   "metadata": {
    "pycharm": {
     "name": "#%%\n"
    }
   },
   "outputs": [
    {
     "data": {
      "text/plain": [
       "0.7488158899923606"
      ]
     },
     "execution_count": 14,
     "metadata": {},
     "output_type": "execute_result"
    }
   ],
   "source": [
    "cartBestGrid.best_score_"
   ]
  },
  {
   "cell_type": "code",
   "execution_count": 15,
   "metadata": {
    "pycharm": {
     "name": "#%%\n"
    }
   },
   "outputs": [
    {
     "data": {
      "text/plain": [
       "array([1], dtype=int64)"
      ]
     },
     "execution_count": 15,
     "metadata": {},
     "output_type": "execute_result"
    }
   ],
   "source": [
    "random = X.sample(1, random_state=45)\n",
    "cartBestGrid.predict(random)"
   ]
  },
  {
   "cell_type": "markdown",
   "metadata": {
    "pycharm": {
     "name": "#%% md\n"
    }
   },
   "source": [
    "**5. Final Model**"
   ]
  },
  {
   "cell_type": "code",
   "execution_count": 16,
   "metadata": {
    "pycharm": {
     "name": "#%%\n"
    }
   },
   "outputs": [
    {
     "data": {
      "text/plain": [
       "{'ccp_alpha': 0.0,\n",
       " 'class_weight': None,\n",
       " 'criterion': 'gini',\n",
       " 'max_depth': 7,\n",
       " 'max_features': None,\n",
       " 'max_leaf_nodes': None,\n",
       " 'min_impurity_decrease': 0.0,\n",
       " 'min_impurity_split': None,\n",
       " 'min_samples_leaf': 18,\n",
       " 'min_samples_split': 2,\n",
       " 'min_weight_fraction_leaf': 0.0,\n",
       " 'random_state': 17,\n",
       " 'splitter': 'best'}"
      ]
     },
     "execution_count": 16,
     "metadata": {},
     "output_type": "execute_result"
    }
   ],
   "source": [
    "cartFinal = DecisionTreeClassifier(**cartBestGrid.best_params_, random_state=17).fit(X, y)\n",
    "cartFinal.get_params()\n"
   ]
  },
  {
   "cell_type": "code",
   "execution_count": 17,
   "metadata": {
    "pycharm": {
     "name": "#%%\n"
    }
   },
   "outputs": [],
   "source": [
    "cartFinal = cartModel.set_params(**cartBestGrid.best_params_).fit(X, y)"
   ]
  },
  {
   "cell_type": "code",
   "execution_count": 18,
   "metadata": {
    "pycharm": {
     "name": "#%%\n"
    }
   },
   "outputs": [
    {
     "data": {
      "text/plain": [
       "{'ccp_alpha': 0.0,\n",
       " 'class_weight': None,\n",
       " 'criterion': 'gini',\n",
       " 'max_depth': 7,\n",
       " 'max_features': None,\n",
       " 'max_leaf_nodes': None,\n",
       " 'min_impurity_decrease': 0.0,\n",
       " 'min_impurity_split': None,\n",
       " 'min_samples_leaf': 18,\n",
       " 'min_samples_split': 2,\n",
       " 'min_weight_fraction_leaf': 0.0,\n",
       " 'random_state': 17,\n",
       " 'splitter': 'best'}"
      ]
     },
     "execution_count": 18,
     "metadata": {},
     "output_type": "execute_result"
    }
   ],
   "source": [
    "cartFinal.get_params()"
   ]
  },
  {
   "cell_type": "code",
   "execution_count": 19,
   "metadata": {
    "pycharm": {
     "name": "#%%\n"
    }
   },
   "outputs": [
    {
     "data": {
      "text/plain": [
       "0.7488158899923606"
      ]
     },
     "execution_count": 19,
     "metadata": {},
     "output_type": "execute_result"
    }
   ],
   "source": [
    "cvResults = cross_validate(cartFinal,X, y, cv=5,scoring=[\"accuracy\", \"f1\", \"roc_auc\"])\n",
    "cvResults['test_accuracy'].mean()"
   ]
  },
  {
   "cell_type": "code",
   "execution_count": 20,
   "metadata": {
    "pycharm": {
     "name": "#%%\n"
    }
   },
   "outputs": [
    {
     "data": {
      "text/plain": [
       "0.624798861465094"
      ]
     },
     "execution_count": 20,
     "metadata": {},
     "output_type": "execute_result"
    }
   ],
   "source": [
    "cvResults['test_f1'].mean()"
   ]
  },
  {
   "cell_type": "code",
   "execution_count": 21,
   "metadata": {
    "pycharm": {
     "name": "#%%\n"
    }
   },
   "outputs": [
    {
     "data": {
      "text/plain": [
       "0.78283857442348"
      ]
     },
     "execution_count": 21,
     "metadata": {},
     "output_type": "execute_result"
    }
   ],
   "source": [
    "cvResults['test_roc_auc'].mean()"
   ]
  },
  {
   "cell_type": "markdown",
   "metadata": {
    "pycharm": {
     "name": "#%% md\n"
    }
   },
   "source": [
    "**6. Feature Importance**"
   ]
  },
  {
   "cell_type": "code",
   "execution_count": 22,
   "metadata": {
    "pycharm": {
     "name": "#%%\n"
    }
   },
   "outputs": [
    {
     "data": {
      "text/plain": [
       "array([0.00427304, 0.51679998, 0.06032109, 0.00145605, 0.00938085,\n",
       "       0.19265404, 0.09462262, 0.12049233])"
      ]
     },
     "execution_count": 22,
     "metadata": {},
     "output_type": "execute_result"
    }
   ],
   "source": [
    "cartFinal.feature_importances_"
   ]
  },
  {
   "cell_type": "code",
   "execution_count": 23,
   "metadata": {
    "pycharm": {
     "name": "#%%\n"
    }
   },
   "outputs": [
    {
     "data": {
      "image/png": "[encoded data removed]",
      "text/plain": [
       "<Figure size 720x720 with 1 Axes>"
      ]
     },
     "metadata": {
      "needs_background": "light"
     },
     "output_type": "display_data"
    }
   ],
   "source": [
    "def plotImportance(model, features, num=len(X), save=False):\n",
    "    featureImp = pd.DataFrame({'Value': model.feature_importances_, 'Feature': features.columns})\n",
    "    plt.figure(figsize=(10, 10))\n",
    "    sns.set(font_scale=1)\n",
    "    sns.barplot(x=\"Value\", y=\"Feature\", data=featureImp.sort_values(by=\"Value\",\n",
    "                                                                     ascending=False)[0:num])\n",
    "    plt.title('Features')\n",
    "    plt.tight_layout()\n",
    "    plt.show()\n",
    "    if save:\n",
    "        plt.savefig('importances.png')\n",
    "\n",
    "\n",
    "plotImportance(cartFinal, X, num=5)\n"
   ]
  },
  {
   "cell_type": "markdown",
   "metadata": {
    "pycharm": {
     "name": "#%% md\n"
    }
   },
   "source": [
    "**7. Analyzing Model Complexity with Learning Curves (BONUS)**"
   ]
  },
  {
   "cell_type": "code",
   "execution_count": 24,
   "metadata": {
    "pycharm": {
     "name": "#%%\n"
    }
   },
   "outputs": [
    {
     "data": {
      "image/png": "[encoded data removed]",
      "text/plain": [
       "<Figure size 432x288 with 1 Axes>"
      ]
     },
     "metadata": {},
     "output_type": "display_data"
    }
   ],
   "source": [
    "trainScore, testScore = validation_curve(cartFinal, X, y,\n",
    "                                           param_name=\"max_depth\",\n",
    "                                           param_range=range(1, 11),\n",
    "                                           scoring=\"roc_auc\",\n",
    "                                           cv=10)\n",
    "\n",
    "meanTrainScore = np.mean(trainScore, axis=1)\n",
    "meanTestScore = np.mean(testScore, axis=1)\n",
    "plt.plot(range(1, 11), meanTrainScore,\n",
    "         label=\"Training Score\", color='b')\n",
    "\n",
    "plt.plot(range(1, 11), meanTestScore,\n",
    "         label=\"Validation Score\", color='g')\n",
    "\n",
    "plt.title(\"Validation Curve for CART\")\n",
    "plt.xlabel(\"Number of max_depth\")\n",
    "plt.ylabel(\"AUC\")\n",
    "plt.tight_layout()\n",
    "plt.legend(loc='best')\n",
    "plt.show()"
   ]
  },
  {
   "cell_type": "code",
   "execution_count": null,
   "outputs": [],
   "source": [
    "def valCurveParams(model, X, y, param_name, param_range, scoring=\"roc_auc\", cv=10):\n",
    "    train_score, test_score = validation_curve(\n",
    "        model, X=X, y=y, param_name=param_name, param_range=param_range, scoring=scoring, cv=cv)\n",
    "\n",
    "    mean_train_score = np.mean(train_score, axis=1)\n",
    "    mean_test_score = np.mean(test_score, axis=1)\n",
    "\n",
    "    plt.plot(param_range, mean_train_score,\n",
    "             label=\"Training Score\", color='b')\n",
    "\n",
    "    plt.plot(param_range, mean_test_score,\n",
    "             label=\"Validation Score\", color='g')\n",
    "\n",
    "    plt.title(f\"Validation Curve for {type(model).__name__}\")\n",
    "    plt.xlabel(f\"Number of {param_name}\")\n",
    "    plt.ylabel(f\"{scoring}\")\n",
    "    plt.tight_layout()\n",
    "    plt.legend(loc='best')\n",
    "    plt.show(block=True)\n",
    "    \n",
    "valCurveParams(cartFinal, X, y, \"max_depth\", range(1, 11), scoring=\"f1\")\n"
   ],
   "metadata": {
    "collapsed": false,
    "pycharm": {
     "name": "#%%\n"
    }
   }
  },
  {
   "cell_type": "code",
   "execution_count": null,
   "outputs": [],
   "source": [
    "cartValParams = [[\"max_depth\", range(1, 11)], [\"min_samples_split\", range(2, 20)]]\n",
    "\n",
    "for i in range(len(cartValParams)):\n",
    "    valCurveParams(cartModel, X, y, cartValParams[i][0], cartValParams[i][1])"
   ],
   "metadata": {
    "collapsed": false,
    "pycharm": {
     "name": "#%%\n"
    }
   }
  },
  {
   "cell_type": "markdown",
   "source": [
    "**8. Visualizing the Decision Tree**"
   ],
   "metadata": {
    "collapsed": false,
    "pycharm": {
     "name": "#%% md\n"
    }
   }
  },
  {
   "cell_type": "code",
   "execution_count": null,
   "outputs": [],
   "source": [
    "def tree_graph(model, col_names, file_name):\n",
    "    tree_str = export_graphviz(model, feature_names=col_names, filled=True, out_file=None)\n",
    "    graph = pydotplus.graph_from_dot_data(tree_str)\n",
    "    graph.write_png(file_name)\n",
    "\n",
    "\n",
    "tree_graph(model=cartFinal, col_names=X.columns, file_name=\"cart_final.png\")"
   ],
   "metadata": {
    "collapsed": false,
    "pycharm": {
     "name": "#%%\n"
    }
   }
  },
  {
   "cell_type": "markdown",
   "source": [
    "**9. Extracting Decision Rules**"
   ],
   "metadata": {
    "collapsed": false,
    "pycharm": {
     "name": "#%% md\n"
    }
   }
  },
  {
   "cell_type": "code",
   "execution_count": null,
   "outputs": [],
   "source": [
    "treeRules = export_text(cartFinal, feature_names=list(X.columns))\n",
    "print(treeRules)"
   ],
   "metadata": {
    "collapsed": false,
    "pycharm": {
     "name": "#%%\n"
    }
   }
  },
  {
   "cell_type": "markdown",
   "source": [
    "**10. Extracting Python Codes of Decision Rules**"
   ],
   "metadata": {
    "collapsed": false,
    "pycharm": {
     "name": "#%% md\n"
    }
   }
  },
  {
   "cell_type": "code",
   "execution_count": null,
   "outputs": [],
   "source": [
    "print(skompile(cartFinal.predict).to('python/code'))"
   ],
   "metadata": {
    "collapsed": false,
    "pycharm": {
     "name": "#%%\n"
    }
   }
  },
  {
   "cell_type": "code",
   "execution_count": null,
   "outputs": [],
   "source": [
    "print(skompile(cartFinal.predict).to('sqlalchemy/sqlite'))"
   ],
   "metadata": {
    "collapsed": false,
    "pycharm": {
     "name": "#%%\n"
    }
   }
  },
  {
   "cell_type": "code",
   "execution_count": null,
   "outputs": [],
   "source": [
    "print(skompile(cartFinal.predict).to('excel'))"
   ],
   "metadata": {
    "collapsed": false,
    "pycharm": {
     "name": "#%%\n"
    }
   }
  },
  {
   "cell_type": "markdown",
   "source": [
    "**11. Prediction using Python Codes**"
   ],
   "metadata": {
    "collapsed": false,
    "pycharm": {
     "name": "#%% md\n"
    }
   }
  },
  {
   "cell_type": "code",
   "execution_count": null,
   "outputs": [],
   "source": [
    "def predict_with_rules(x):\n",
    "    return ((((((0 if x[6] <= 0.671999990940094 else 1 if x[6] <= 0.6864999830722809 else\n",
    "        0) if x[0] <= 7.5 else 1) if x[5] <= 30.949999809265137 else ((1 if x[5\n",
    "        ] <= 32.45000076293945 else 1 if x[3] <= 10.5 else 0) if x[2] <= 53.0 else\n",
    "        ((0 if x[1] <= 111.5 else 0 if x[2] <= 72.0 else 1 if x[3] <= 31.0 else\n",
    "        0) if x[2] <= 82.5 else 1) if x[4] <= 36.5 else 0) if x[6] <=\n",
    "        0.5005000084638596 else (0 if x[1] <= 88.5 else (((0 if x[0] <= 1.0 else\n",
    "        1) if x[1] <= 98.5 else 1) if x[6] <= 0.9269999861717224 else 0) if x[1\n",
    "        ] <= 116.0 else 0 if x[4] <= 166.0 else 1) if x[2] <= 69.0 else ((0 if\n",
    "        x[2] <= 79.0 else 0 if x[1] <= 104.5 else 1) if x[3] <= 5.5 else 0) if\n",
    "        x[6] <= 1.098000019788742 else 1) if x[5] <= 45.39999961853027 else 0 if\n",
    "        x[7] <= 22.5 else 1) if x[7] <= 28.5 else (1 if x[5] <=\n",
    "        9.649999618530273 else 0) if x[5] <= 26.350000381469727 else (1 if x[1] <=\n",
    "        28.5 else ((0 if x[0] <= 11.5 else 1 if x[5] <= 31.25 else 0) if x[1] <=\n",
    "        94.5 else (1 if x[5] <= 36.19999885559082 else 0) if x[1] <= 97.5 else\n",
    "        0) if x[6] <= 0.7960000038146973 else 0 if x[0] <= 3.0 else (1 if x[6] <=\n",
    "        0.9614999890327454 else 0) if x[3] <= 20.0 else 1) if x[1] <= 99.5 else\n",
    "        ((1 if x[5] <= 27.649999618530273 else 0 if x[0] <= 5.5 else (((1 if x[\n",
    "        0] <= 7.0 else 0) if x[1] <= 103.5 else 0) if x[1] <= 118.5 else 1) if\n",
    "        x[0] <= 9.0 else 0) if x[6] <= 0.19999999552965164 else ((0 if x[5] <=\n",
    "        36.14999961853027 else 1) if x[1] <= 113.0 else 1) if x[0] <= 1.5 else\n",
    "        (1 if x[6] <= 0.3620000034570694 else 1 if x[5] <= 30.050000190734863 else\n",
    "        0) if x[2] <= 67.0 else (((0 if x[6] <= 0.2524999976158142 else 1) if x\n",
    "        [1] <= 120.0 else 1 if x[6] <= 0.23899999260902405 else 1 if x[7] <=\n",
    "        30.5 else 0) if x[2] <= 83.0 else 0) if x[5] <= 34.45000076293945 else\n",
    "        1 if x[1] <= 101.0 else 0 if x[5] <= 43.10000038146973 else 1) if x[6] <=\n",
    "        0.5609999895095825 else ((0 if x[7] <= 34.5 else 1 if x[5] <=\n",
    "        33.14999961853027 else 0) if x[4] <= 120.5 else (1 if x[3] <= 47.5 else\n",
    "        0) if x[4] <= 225.0 else 0) if x[0] <= 6.5 else 1) if x[1] <= 127.5 else\n",
    "        (((((1 if x[1] <= 129.5 else ((1 if x[6] <= 0.5444999933242798 else 0) if\n",
    "        x[2] <= 56.0 else 0) if x[2] <= 71.0 else 1) if x[2] <= 73.0 else 0) if\n",
    "        x[5] <= 28.149999618530273 else (1 if x[1] <= 135.0 else 0) if x[3] <=\n",
    "        21.0 else 1) if x[4] <= 132.5 else 0) if x[1] <= 145.5 else 0 if x[7] <=\n",
    "        25.5 else ((0 if x[1] <= 151.0 else 1) if x[5] <= 27.09999942779541 else\n",
    "        ((1 if x[0] <= 6.5 else 0) if x[6] <= 0.3974999934434891 else 0) if x[2\n",
    "        ] <= 82.0 else 0) if x[7] <= 61.0 else 0) if x[5] <= 29.949999809265137\n",
    "         else ((1 if x[2] <= 61.0 else (((((0 if x[6] <= 0.18299999833106995 else\n",
    "        1) if x[0] <= 0.5 else 1 if x[5] <= 32.45000076293945 else 0) if x[2] <=\n",
    "        73.0 else 0) if x[0] <= 4.5 else 1 if x[6] <= 0.6169999837875366 else 0\n",
    "        ) if x[6] <= 1.1414999961853027 else 1) if x[5] <= 41.79999923706055 else\n",
    "        1 if x[6] <= 0.37299999594688416 else 1 if x[1] <= 142.5 else 0) if x[7\n",
    "        ] <= 30.5 else (((1 if x[6] <= 0.13649999350309372 else 0 if x[5] <=\n",
    "        32.45000076293945 else 1 if x[5] <= 33.05000114440918 else (0 if x[6] <=\n",
    "        0.25599999725818634 else (0 if x[1] <= 130.5 else 1) if x[0] <= 8.5 else\n",
    "        0) if x[0] <= 13.5 else 1) if x[2] <= 92.0 else 1) if x[5] <=\n",
    "        45.54999923706055 else 1) if x[6] <= 0.4294999986886978 else (1 if x[5] <=\n",
    "        40.05000114440918 else 0 if x[5] <= 40.89999961853027 else 1) if x[4] <=\n",
    "        333.5 else 1 if x[2] <= 64.0 else 0) if x[1] <= 157.5 else ((((1 if x[7\n",
    "        ] <= 25.5 else 0 if x[4] <= 87.5 else 1 if x[5] <= 45.60000038146973 else\n",
    "        0) if x[7] <= 37.5 else 1 if x[7] <= 56.5 else 0 if x[6] <=\n",
    "        0.22100000083446503 else 1) if x[6] <= 0.28849999606609344 else 0) if x\n",
    "        [6] <= 0.3004999905824661 else 1 if x[7] <= 44.0 else (0 if x[7] <=\n",
    "        51.0 else 1 if x[6] <= 1.1565000414848328 else 0) if x[0] <= 6.5 else 1\n",
    "        ) if x[4] <= 629.5 else 1 if x[6] <= 0.4124999940395355 else 0)\n",
    "\n",
    "X.columns"
   ],
   "metadata": {
    "collapsed": false,
    "pycharm": {
     "name": "#%%\n"
    }
   }
  },
  {
   "cell_type": "code",
   "execution_count": null,
   "outputs": [],
   "source": [
    "x = [12, 13, 20, 23, 4, 55, 12, 7]\n",
    "\n",
    "predict_with_rules(x)\n"
   ],
   "metadata": {
    "collapsed": false,
    "pycharm": {
     "name": "#%%\n"
    }
   }
  },
  {
   "cell_type": "code",
   "execution_count": null,
   "outputs": [],
   "source": [
    "x = [6, 148, 70, 35, 0, 30, 0.62, 50]\n",
    "\n",
    "predict_with_rules(x)"
   ],
   "metadata": {
    "collapsed": false,
    "pycharm": {
     "name": "#%%\n"
    }
   }
  },
  {
   "cell_type": "markdown",
   "source": [
    "**12. Saving and Loading Model**"
   ],
   "metadata": {
    "collapsed": false,
    "pycharm": {
     "name": "#%% md\n"
    }
   }
  },
  {
   "cell_type": "code",
   "execution_count": null,
   "outputs": [],
   "source": [
    "joblib.dump(cartFinal, \"cart_final.pkl\")\n",
    "\n",
    "cart_model_from_disc = joblib.load(\"cart_final.pkl\")\n",
    "\n",
    "x = [12, 13, 20, 23, 4, 55, 12, 7]\n",
    "\n",
    "cart_model_from_disc.predict(pd.DataFrame(x).T)\n"
   ],
   "metadata": {
    "collapsed": false,
    "pycharm": {
     "name": "#%%\n"
    }
   }
  }
 ],
 "metadata": {
  "kernelspec": {
   "display_name": "Python 3.8.8 ('base')",
   "language": "python",
   "name": "python3"
  },
  "language_info": {
   "codemirror_mode": {
    "name": "ipython",
    "version": 3
   },
   "file_extension": ".py",
   "mimetype": "text/x-python",
   "name": "python",
   "nbconvert_exporter": "python",
   "pygments_lexer": "ipython3",
   "version": "3.8.8"
  },
  "orig_nbformat": 4,
  "vscode": {
   "interpreter": {
    "hash": "434691f1ecaf466ba8ee38280735dd626cdf07e55467611e3966387a302373c5"
   }
  }
 },
 "nbformat": 4,
 "nbformat_minor": 2
}